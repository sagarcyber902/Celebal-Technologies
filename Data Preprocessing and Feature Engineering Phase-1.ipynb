{
 "cells": [
  {
   "cell_type": "code",
   "execution_count": 1,
   "id": "09b87d20-bac6-4716-b144-a148d6297ab0",
   "metadata": {},
   "outputs": [],
   "source": [
    "import numpy as np\n",
    "import pandas as pd\n",
    "import seaborn as sns\n",
    "from matplotlib import pyplot as plt\n",
    "import missingno as msno\n",
    "from datetime import date\n",
    "from sklearn.metrics import accuracy_score\n",
    "from sklearn.model_selection import train_test_split\n",
    "from sklearn.neighbors import LocalOutlierFactor\n",
    "from sklearn.preprocessing import MinMaxScaler, LabelEncoder, StandardScaler, RobustScaler"
   ]
  },
  {
   "cell_type": "code",
   "execution_count": 2,
   "id": "5eddcb7b-e4e1-4ce7-b222-037108f1c54f",
   "metadata": {},
   "outputs": [],
   "source": [
    "def load_application_train():\n",
    "    data = pd.read_csv(\"application_train.csv\")\n",
    "    return data"
   ]
  },
  {
   "cell_type": "code",
   "execution_count": 3,
   "id": "690da6de-047a-4e54-ab49-ab56232c1698",
   "metadata": {},
   "outputs": [
    {
     "name": "stdout",
     "output_type": "stream",
     "text": [
      "(307511, 122)\n"
     ]
    }
   ],
   "source": [
    "df = load_application_train()\n",
    "print(df.shape)"
   ]
  },
  {
   "cell_type": "code",
   "execution_count": 4,
   "id": "8b069643-5223-45cf-b7bd-e2e9798fe215",
   "metadata": {},
   "outputs": [],
   "source": [
    "def load():\n",
    "    data = pd.read_csv(\"titanic.csv\")\n",
    "    return data"
   ]
  },
  {
   "cell_type": "code",
   "execution_count": 5,
   "id": "bcc66b38-dca3-4b7c-a2ae-afe7b6dc2ad5",
   "metadata": {},
   "outputs": [
    {
     "name": "stdout",
     "output_type": "stream",
     "text": [
      "(891, 12)\n"
     ]
    }
   ],
   "source": [
    "df = load()\n",
    "print(df.shape)"
   ]
  },
  {
   "cell_type": "code",
   "execution_count": 6,
   "id": "c15c19b5-e4ee-4049-87f8-8bb2e9ccefb5",
   "metadata": {},
   "outputs": [
    {
     "data": {
      "image/png": "[encoded data removed]",
      "text/plain": [
       "<Figure size 640x480 with 1 Axes>"
      ]
     },
     "metadata": {},
     "output_type": "display_data"
    }
   ],
   "source": [
    "sns.boxplot(x=df[\"Age\"])\n",
    "plt.show()"
   ]
  },
  {
   "cell_type": "code",
   "execution_count": 7,
   "id": "3ea06124-dd8f-49df-9591-17e07dd532f2",
   "metadata": {},
   "outputs": [],
   "source": [
    "q1 = df[\"Age\"].quantile(0.25)\n",
    "q3 = df[\"Age\"].quantile(0.75)\n",
    "iqr = q3 - q1\n",
    "up = q3 + 1.5 * iqr\n",
    "low = q1 - 1.5 * iqr"
   ]
  },
  {
   "cell_type": "code",
   "execution_count": 8,
   "id": "f8c6527e-d9ea-4405-8981-fa6d11b156f9",
   "metadata": {},
   "outputs": [
    {
     "name": "stdout",
     "output_type": "stream",
     "text": [
      "     PassengerId  Survived  Pclass                                  Name  \\\n",
      "33            34         0       2                 Wheadon, Mr. Edward H   \n",
      "54            55         0       1        Ostby, Mr. Engelhart Cornelius   \n",
      "96            97         0       1             Goldschmidt, Mr. George B   \n",
      "116          117         0       3                  Connors, Mr. Patrick   \n",
      "280          281         0       3                      Duane, Mr. Frank   \n",
      "456          457         0       1             Millet, Mr. Francis Davis   \n",
      "493          494         0       1               Artagaveytia, Mr. Ramon   \n",
      "630          631         1       1  Barkworth, Mr. Algernon Henry Wilson   \n",
      "672          673         0       2           Mitchell, Mr. Henry Michael   \n",
      "745          746         0       1          Crosby, Capt. Edward Gifford   \n",
      "851          852         0       3                   Svensson, Mr. Johan   \n",
      "\n",
      "      Sex   Age  SibSp  Parch      Ticket     Fare Cabin Embarked  \n",
      "33   male  66.0      0      0  C.A. 24579  10.5000   NaN        S  \n",
      "54   male  65.0      0      1      113509  61.9792   B30        C  \n",
      "96   male  71.0      0      0    PC 17754  34.6542    A5        C  \n",
      "116  male  70.5      0      0      370369   7.7500   NaN        Q  \n",
      "280  male  65.0      0      0      336439   7.7500   NaN        Q  \n",
      "456  male  65.0      0      0       13509  26.5500   E38        S  \n",
      "493  male  71.0      0      0    PC 17609  49.5042   NaN        C  \n",
      "630  male  80.0      0      0       27042  30.0000   A23        S  \n",
      "672  male  70.0      0      0  C.A. 24580  10.5000   NaN        S  \n",
      "745  male  70.0      1      1   WE/P 5735  71.0000   B22        S  \n",
      "851  male  74.0      0      0      347060   7.7750   NaN        S  \n"
     ]
    }
   ],
   "source": [
    "print(df[(df[\"Age\"] < low) | (df[\"Age\"] > up)])"
   ]
  },
  {
   "cell_type": "code",
   "execution_count": 9,
   "id": "61d381a2-1942-4dd8-b799-c8523b5d0f38",
   "metadata": {},
   "outputs": [
    {
     "name": "stdout",
     "output_type": "stream",
     "text": [
      "Index([33, 54, 96, 116, 280, 456, 493, 630, 672, 745, 851], dtype='int64')\n"
     ]
    }
   ],
   "source": [
    "print(df[(df[\"Age\"] < low) | (df[\"Age\"] > up)].index)"
   ]
  },
  {
   "cell_type": "code",
   "execution_count": 10,
   "id": "a54fa117-2b86-445c-b03b-ce7ce49de91a",
   "metadata": {},
   "outputs": [
    {
     "name": "stdout",
     "output_type": "stream",
     "text": [
      "True\n"
     ]
    }
   ],
   "source": [
    "print(df[(df[\"Age\"] < low) | (df[\"Age\"] > up)].any(axis=None))"
   ]
  },
  {
   "cell_type": "code",
   "execution_count": 11,
   "id": "02718c56-627d-46e3-8ba0-de8a6459a8d6",
   "metadata": {},
   "outputs": [
    {
     "name": "stdout",
     "output_type": "stream",
     "text": [
      "False\n"
     ]
    }
   ],
   "source": [
    "print(df[(df[\"Age\"] < low)].any(axis=None))"
   ]
  },
  {
   "cell_type": "code",
   "execution_count": null,
   "id": "c366dbb3-1871-4268-a2f9-fe29a7fed468",
   "metadata": {},
   "outputs": [],
   "source": []
  }
 ],
 "metadata": {
  "kernelspec": {
   "display_name": "Python 3 (ipykernel)",
   "language": "python",
   "name": "python3"
  },
  "language_info": {
   "codemirror_mode": {
    "name": "ipython",
    "version": 3
   },
   "file_extension": ".py",
   "mimetype": "text/x-python",
   "name": "python",
   "nbconvert_exporter": "python",
   "pygments_lexer": "ipython3",
   "version": "3.11.7"
  }
 },
 "nbformat": 4,
 "nbformat_minor": 5
}
